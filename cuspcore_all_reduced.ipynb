{
 "cells": [
  {
   "cell_type": "markdown",
   "metadata": {
    "collapsed": true
   },
   "source": [
    "# RUN CUSPCORE MODEL ON ALL SNAPSHOTS"
   ]
  },
  {
   "cell_type": "raw",
   "metadata": {},
   "source": [
    "REMOVING MERGERS AS fmerger>0.1 both in the current and in the previous snapshots!"
   ]
  },
  {
   "cell_type": "code",
   "execution_count": 3,
   "metadata": {
    "collapsed": false
   },
   "outputs": [
    {
     "name": "stdout",
     "output_type": "stream",
     "text": [
      "g8.28e11 : get_fangzhou_radii did not work\n",
      "g3.54e09 : get_fangzhou_radii did not work\n",
      "g4.36e09 : get_fangzhou_radii did not work\n",
      "Number of galaxies in the sample:  34\n",
      "['g3.44e10', 'g4.27e10', 'g3.21e11', 'g8.89e10', 'g6.77e10', 'g3.59e11', 'g1.37e11', 'g3.23e11', 'g1.57e11', 'g2.54e11', 'g1.59e11', 'g6.96e10', 'g9.59e10', 'g4.90e11', 'g4.94e10', 'g2.94e10', 'g5.46e11', 'g6.91e10', 'g1.64e11', 'g2.19e11', 'g6.37e10', 'g4.86e10', 'g1.52e11', 'g3.55e11', 'g3.49e11', 'g1.08e11', 'g5.05e10', 'g4.99e10', 'g2.41e11', 'g6.12e10', 'g4.48e10', 'g1.05e11', 'g2.04e11', 'g7.12e10']\n"
     ]
    }
   ],
   "source": [
    "# DEFINE SAMPLE\n",
    "\n",
    "import os, sys, glob\n",
    "sys.path.insert(0, '/cs/sci/freundlich/CUSPCORE/Analysis/Formatting')\n",
    "sys.path.insert(0, '/cs/sci/freundlich/CUSPCORE/Analysis/General')\n",
    "\n",
    "import general_functions\n",
    "from general_functions import *\n",
    "reload(general_functions)\n",
    "\n",
    "\n",
    "import format_functions\n",
    "reload(format_functions)\n",
    "\n",
    "directories=glob.glob('/vol/sci/astro/cosmo/nas2/FROM_NAS/nihao/g*')\n",
    "sims=[s[-8:] for s in directories]\n",
    "loaded_sims=[sim[52:60] for sim in glob.glob('/cs/sci/freundlich/CUSPCORE/ARTICLE/output_20190116_g[!s]*[!temp].pickle')]\n",
    "\n",
    "sims_sample=[]\n",
    "for sim in sims:\n",
    "        try:\n",
    "            ok_fangzhou,r12_fangzhou,rvir_fangzhou,mvir_fangzhou,mstar_fangzhou=get_fangzhou_radii(sim,[1.],get_stars=True)\n",
    "            mstar=mstar_fangzhou[0]\n",
    "            if mstar>5e7 and mstar<5e9:\n",
    "                sims_sample.append(sim)\n",
    "        except:\n",
    "            print sim, ': get_fangzhou_radii did not work'\n",
    "\n",
    "print \"Number of galaxies in the sample: \", size(sims_sample)\n",
    "print sims_sample   \n",
    "        "
   ]
  },
  {
   "cell_type": "code",
   "execution_count": 13,
   "metadata": {
    "collapsed": false
   },
   "outputs": [
    {
     "name": "stdout",
     "output_type": "stream",
     "text": [
      "Done!\n"
     ]
    }
   ],
   "source": [
    "# CHECK THAT ALL THE GALAXIES OF THE SAMPLE ARE WELL FORMATTED\n",
    "directory='/cs/sci/freundlich/CUSPCORE/NIHAO_data/'\n",
    "for sim in sims_sample:\n",
    "    if not os.path.exists(directory+'NIHAO'+'-%s.pickle'%(sim[1:])):\n",
    "        print '-- NIHAO'+'-%s.pickle'%(sim[1:])+' does not exist'\n",
    "    if not os.path.exists(directory+'Treal'+'-%s.pickle'%(sim[1:])):\n",
    "        print '-- Treal'+'-%s.pickle'%(sim[1:])+' does not exist'    \n",
    "print 'Done!'"
   ]
  },
  {
   "cell_type": "code",
   "execution_count": 1,
   "metadata": {
    "collapsed": false,
    "scrolled": true
   },
   "outputs": [
    {
     "name": "stdout",
     "output_type": "stream",
     "text": [
      "Done!\n"
     ]
    }
   ],
   "source": [
    "# FIDUTIAL, Ttype='Tmulti'\n",
    "import os, sys, glob\n",
    "import numpy\n",
    "import pickle\n",
    "\n",
    "sys.path.insert(0, '/cs/sci/freundlich/CUSPCORE/Analysis/Model')\n",
    "import cuspcore_go\n",
    "reload(cuspcore_go)\n",
    "from cuspcore_aux import *\n",
    "\n",
    "Ttype='Tmulti'\n",
    "rmin_evolve=10**-1.75\n",
    "rmax_evolve=1.\n",
    "linear_slopes=False\n",
    "t_min=4.\n",
    "merger_thr=1.\n",
    "\n",
    "for sim in sims_sample:\n",
    "        try: \n",
    "            output_sim=cuspcore_go.go([sim],savefigure=True,savedir='images',t_min=t_min,merger_thr=merger_thr,rmin_evolve=rmin_evolve,rmax_evolve=rmax_evolve,Dsnapshot_threshold=0.05,Ttype=Ttype,plot_fprofile=True,plot_T=True,plot_alphabetagamma=False,print_summary=True,linear_slopes = linear_slopes)\n",
    "            output_file_sim='/cs/sci/freundlich/CUSPCORE/ARTICLE/output_20190315_%s.pickle'%sim\n",
    "            try:\n",
    "                count_successes_all([sim],output_sim,merger_threshold=0.1,fit_threshold=0.05)\n",
    "            except: \n",
    "                print \"We do not count successes\"\n",
    "            with open(output_file_sim, 'w') as f:\n",
    "                pickle.dump(output_sim, f)\n",
    "        except:\n",
    "            print sim, \"skipped\"\n",
    "        \n",
    "print 'Done!'"
   ]
  }
 ],
 "metadata": {
  "kernelspec": {
   "display_name": "Python 2",
   "language": "python",
   "name": "python2"
  },
  "language_info": {
   "codemirror_mode": {
    "name": "ipython",
    "version": 2
   },
   "file_extension": ".py",
   "mimetype": "text/x-python",
   "name": "python",
   "nbconvert_exporter": "python",
   "pygments_lexer": "ipython2",
   "version": "2.7.11"
  }
 },
 "nbformat": 4,
 "nbformat_minor": 2
}
